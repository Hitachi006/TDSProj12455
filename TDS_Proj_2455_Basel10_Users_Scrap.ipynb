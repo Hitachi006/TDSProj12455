{
  "cells": [
    {
      "cell_type": "code",
      "execution_count": null,
      "metadata": {
        "id": "dI1F6mjVkYco"
      },
      "outputs": [],
      "source": [
        "import pandas as pd\n",
        "import requests"
      ]
    },
    {
      "cell_type": "code",
      "execution_count": null,
      "metadata": {
        "id": "NRbFt9IskzBl"
      },
      "outputs": [],
      "source": [
        "#github access token\n",
        "\n",
        "headers = {\n",
        "    'Authorization':'*******'\n",
        "}"
      ]
    },
    {
      "cell_type": "code",
      "execution_count": null,
      "metadata": {
        "colab": {
          "base_uri": "https://localhost:8080/"
        },
        "id": "ssqEsygYlX5v",
        "outputId": "976e684b-d9d2-4f94-e1dd-8b474a5fb8a8"
      },
      "outputs": [
        {
          "name": "stdout",
          "output_type": "stream",
          "text": [
            "60 0 2024-10-30 13:22:04\n"
          ]
        }
      ],
      "source": [
        "# github rate limit tracking\n",
        "\n",
        "import datetime\n",
        "\n",
        "response = requests.get('https://api.github.com/rate_limit', headers=headers)\n",
        "rate_limit_data = response.json()\n",
        "\n",
        "rate_limit=rate_limit_data['resources']['core']['limit']\n",
        "rate_remaining=rate_limit_data['resources']['core']['remaining']\n",
        "reset_timestamp = rate_limit_data['resources']['core']['reset']\n",
        "reset_datetime = datetime.datetime.fromtimestamp(reset_timestamp)\n",
        "\n",
        "print(rate_limit,rate_remaining, reset_datetime)"
      ]
    },
    {
      "cell_type": "code",
      "execution_count": null,
      "metadata": {
        "id": "585LZdDAmgD3"
      },
      "outputs": [],
      "source": [
        "# step 1 : extract the list of users in Basel with more than 10 followers\n",
        "\n",
        "city='Basel'\n",
        "m_follow=10\n",
        "per_page=100\n",
        "\n",
        "query=f'location:{city} followers:>{m_follow}'\n",
        "url=f'https://api.github.com/search/users?q={query}&per_page={per_page}'\n",
        "\n",
        "users_list=[]\n",
        "\n",
        "while url:\n",
        "\n",
        "  response=requests.get(url,headers=headers)\n",
        "  if response.status_code==200:\n",
        "\n",
        "    users_data=response.json().get('items',[])\n",
        "    users_list.extend([item['login'] for item in users_data])\n",
        "\n",
        "    link_header=response.headers.get('link')\n",
        "\n",
        "    if link_header and 'rel=\"next\"' in link_header:\n",
        "      for link in link_header.split(','):\n",
        "        if 'rel=\"next\"' in link:\n",
        "          url=link.split(';')[0].strip('<> ')\n",
        "          break\n",
        "        else:\n",
        "          url= None\n",
        "    else:\n",
        "      url=None\n",
        "\n"
      ]
    },
    {
      "cell_type": "code",
      "execution_count": null,
      "metadata": {
        "colab": {
          "base_uri": "https://localhost:8080/"
        },
        "id": "mhTvSs1VnXCP",
        "outputId": "7357b287-a815-4e9e-8e95-4e0c2510c25f"
      },
      "outputs": [
        {
          "name": "stdout",
          "output_type": "stream",
          "text": [
            "349\n"
          ]
        }
      ],
      "source": [
        "print(len(users_list))"
      ]
    },
    {
      "cell_type": "code",
      "execution_count": null,
      "metadata": {
        "colab": {
          "base_uri": "https://localhost:8080/"
        },
        "id": "cJYje98PFH4K",
        "outputId": "9e194c4b-9b4a-4df6-fa9e-fc679c7e2fae"
      },
      "outputs": [
        {
          "data": {
            "text/plain": [
              "349"
            ]
          },
          "execution_count": 7,
          "metadata": {},
          "output_type": "execute_result"
        }
      ],
      "source": [
        "users_df=pd.read_csv('/content/drive/MyDrive/Colab Notebooks/TDS/Project 1 - Basel10/users.csv')\n",
        "users_df.shape[0]"
      ]
    },
    {
      "cell_type": "code",
      "execution_count": null,
      "metadata": {
        "id": "ps5ENwZ-yY3e"
      },
      "outputs": [],
      "source": [
        "#2 extract the requisite columns for each of the filtered users\n",
        "\n",
        "req_fields = req_fields=['login','name','company','location','email','hireable','bio','public_repos','followers','following','created_at']\n",
        "\n",
        "user_fields={}\n",
        "i=users_df.shape[0]\n",
        "\n",
        "for user in users_list[i:]:\n",
        "  url=f'https://api.github.com/users/{user}'\n",
        "  response=requests.get(url,headers=headers)\n",
        "  if response.status_code==200:\n",
        "    user_data=response.json()\n",
        "    for field in req_fields:\n",
        "      user_fields[field]=user_data[field]\n",
        "    users_df.loc[i]=user_fields\n",
        "    i+=1\n"
      ]
    },
    {
      "cell_type": "code",
      "execution_count": null,
      "metadata": {
        "colab": {
          "base_uri": "https://localhost:8080/"
        },
        "id": "1m9D5Blv3rfm",
        "outputId": "174a6602-b7c0-4ccf-c70e-ab8fd370f86d"
      },
      "outputs": [
        {
          "data": {
            "text/plain": [
              "(349, 11)"
            ]
          },
          "execution_count": 9,
          "metadata": {},
          "output_type": "execute_result"
        }
      ],
      "source": [
        "users_df.shape"
      ]
    },
    {
      "cell_type": "code",
      "execution_count": null,
      "metadata": {
        "colab": {
          "base_uri": "https://localhost:8080/",
          "height": 327
        },
        "id": "Jb8f0zmRVgwa",
        "outputId": "0d6bd28f-deea-497f-8e9d-b143316ded99"
      },
      "outputs": [
        {
          "data": {
            "application/vnd.google.colaboratory.intrinsic+json": {
              "repr_error": "0",
              "type": "dataframe"
            },
            "text/html": [
              "\n",
              "  <div id=\"df-64b4f6e9-e9ca-44ff-b1a7-9eec12674e4d\" class=\"colab-df-container\">\n",
              "    <div>\n",
              "<style scoped>\n",
              "    .dataframe tbody tr th:only-of-type {\n",
              "        vertical-align: middle;\n",
              "    }\n",
              "\n",
              "    .dataframe tbody tr th {\n",
              "        vertical-align: top;\n",
              "    }\n",
              "\n",
              "    .dataframe thead th {\n",
              "        text-align: right;\n",
              "    }\n",
              "</style>\n",
              "<table border=\"1\" class=\"dataframe\">\n",
              "  <thead>\n",
              "    <tr style=\"text-align: right;\">\n",
              "      <th></th>\n",
              "      <th>login</th>\n",
              "      <th>name</th>\n",
              "      <th>company</th>\n",
              "      <th>location</th>\n",
              "      <th>email</th>\n",
              "      <th>hireable</th>\n",
              "      <th>bio</th>\n",
              "      <th>public_repos</th>\n",
              "      <th>followers</th>\n",
              "      <th>following</th>\n",
              "      <th>created_at</th>\n",
              "    </tr>\n",
              "  </thead>\n",
              "  <tbody>\n",
              "    <tr>\n",
              "      <th>344</th>\n",
              "      <td>alvarogonjim</td>\n",
              "      <td>Alvaro Gonzalez-Jimenez</td>\n",
              "      <td>University of Basel</td>\n",
              "      <td>Basel</td>\n",
              "      <td>NaN</td>\n",
              "      <td>NaN</td>\n",
              "      <td>NaN</td>\n",
              "      <td>23</td>\n",
              "      <td>11</td>\n",
              "      <td>11</td>\n",
              "      <td>2017-02-09T17:00:18Z</td>\n",
              "    </tr>\n",
              "    <tr>\n",
              "      <th>345</th>\n",
              "      <td>palsch</td>\n",
              "      <td>Paul Schell</td>\n",
              "      <td>PRODYNA (Schweiz) AG</td>\n",
              "      <td>Basel</td>\n",
              "      <td>NaN</td>\n",
              "      <td>NaN</td>\n",
              "      <td>I am a senior software architect and consultan...</td>\n",
              "      <td>18</td>\n",
              "      <td>11</td>\n",
              "      <td>14</td>\n",
              "      <td>2012-03-21T17:09:18Z</td>\n",
              "    </tr>\n",
              "    <tr>\n",
              "      <th>346</th>\n",
              "      <td>dsolsona</td>\n",
              "      <td>Daniel Solsona</td>\n",
              "      <td>Beekeeper</td>\n",
              "      <td>Basel</td>\n",
              "      <td>NaN</td>\n",
              "      <td>NaN</td>\n",
              "      <td>NaN</td>\n",
              "      <td>35</td>\n",
              "      <td>11</td>\n",
              "      <td>3</td>\n",
              "      <td>2011-06-26T16:07:22Z</td>\n",
              "    </tr>\n",
              "    <tr>\n",
              "      <th>347</th>\n",
              "      <td>frieder</td>\n",
              "      <td>Frieder Heugel</td>\n",
              "      <td>NaN</td>\n",
              "      <td>Basel, Switzerland</td>\n",
              "      <td>NaN</td>\n",
              "      <td>NaN</td>\n",
              "      <td>NaN</td>\n",
              "      <td>10</td>\n",
              "      <td>11</td>\n",
              "      <td>0</td>\n",
              "      <td>2011-01-31T10:19:09Z</td>\n",
              "    </tr>\n",
              "    <tr>\n",
              "      <th>348</th>\n",
              "      <td>dpdawson</td>\n",
              "      <td>Daniel Dawson</td>\n",
              "      <td>Google</td>\n",
              "      <td>Basel, Switzerland</td>\n",
              "      <td>NaN</td>\n",
              "      <td>True</td>\n",
              "      <td>NaN</td>\n",
              "      <td>27</td>\n",
              "      <td>11</td>\n",
              "      <td>88</td>\n",
              "      <td>2010-11-16T21:28:17Z</td>\n",
              "    </tr>\n",
              "  </tbody>\n",
              "</table>\n",
              "</div>\n",
              "    <div class=\"colab-df-buttons\">\n",
              "\n",
              "  <div class=\"colab-df-container\">\n",
              "    <button class=\"colab-df-convert\" onclick=\"convertToInteractive('df-64b4f6e9-e9ca-44ff-b1a7-9eec12674e4d')\"\n",
              "            title=\"Convert this dataframe to an interactive table.\"\n",
              "            style=\"display:none;\">\n",
              "\n",
              "  <svg xmlns=\"http://www.w3.org/2000/svg\" height=\"24px\" viewBox=\"0 -960 960 960\">\n",
              "    <path d=\"M120-120v-720h720v720H120Zm60-500h600v-160H180v160Zm220 220h160v-160H400v160Zm0 220h160v-160H400v160ZM180-400h160v-160H180v160Zm440 0h160v-160H620v160ZM180-180h160v-160H180v160Zm440 0h160v-160H620v160Z\"/>\n",
              "  </svg>\n",
              "    </button>\n",
              "\n",
              "  <style>\n",
              "    .colab-df-container {\n",
              "      display:flex;\n",
              "      gap: 12px;\n",
              "    }\n",
              "\n",
              "    .colab-df-convert {\n",
              "      background-color: #E8F0FE;\n",
              "      border: none;\n",
              "      border-radius: 50%;\n",
              "      cursor: pointer;\n",
              "      display: none;\n",
              "      fill: #1967D2;\n",
              "      height: 32px;\n",
              "      padding: 0 0 0 0;\n",
              "      width: 32px;\n",
              "    }\n",
              "\n",
              "    .colab-df-convert:hover {\n",
              "      background-color: #E2EBFA;\n",
              "      box-shadow: 0px 1px 2px rgba(60, 64, 67, 0.3), 0px 1px 3px 1px rgba(60, 64, 67, 0.15);\n",
              "      fill: #174EA6;\n",
              "    }\n",
              "\n",
              "    .colab-df-buttons div {\n",
              "      margin-bottom: 4px;\n",
              "    }\n",
              "\n",
              "    [theme=dark] .colab-df-convert {\n",
              "      background-color: #3B4455;\n",
              "      fill: #D2E3FC;\n",
              "    }\n",
              "\n",
              "    [theme=dark] .colab-df-convert:hover {\n",
              "      background-color: #434B5C;\n",
              "      box-shadow: 0px 1px 3px 1px rgba(0, 0, 0, 0.15);\n",
              "      filter: drop-shadow(0px 1px 2px rgba(0, 0, 0, 0.3));\n",
              "      fill: #FFFFFF;\n",
              "    }\n",
              "  </style>\n",
              "\n",
              "    <script>\n",
              "      const buttonEl =\n",
              "        document.querySelector('#df-64b4f6e9-e9ca-44ff-b1a7-9eec12674e4d button.colab-df-convert');\n",
              "      buttonEl.style.display =\n",
              "        google.colab.kernel.accessAllowed ? 'block' : 'none';\n",
              "\n",
              "      async function convertToInteractive(key) {\n",
              "        const element = document.querySelector('#df-64b4f6e9-e9ca-44ff-b1a7-9eec12674e4d');\n",
              "        const dataTable =\n",
              "          await google.colab.kernel.invokeFunction('convertToInteractive',\n",
              "                                                    [key], {});\n",
              "        if (!dataTable) return;\n",
              "\n",
              "        const docLinkHtml = 'Like what you see? Visit the ' +\n",
              "          '<a target=\"_blank\" href=https://colab.research.google.com/notebooks/data_table.ipynb>data table notebook</a>'\n",
              "          + ' to learn more about interactive tables.';\n",
              "        element.innerHTML = '';\n",
              "        dataTable['output_type'] = 'display_data';\n",
              "        await google.colab.output.renderOutput(dataTable, element);\n",
              "        const docLink = document.createElement('div');\n",
              "        docLink.innerHTML = docLinkHtml;\n",
              "        element.appendChild(docLink);\n",
              "      }\n",
              "    </script>\n",
              "  </div>\n",
              "\n",
              "\n",
              "<div id=\"df-5ba83d91-5437-49b0-850d-240427c29ac3\">\n",
              "  <button class=\"colab-df-quickchart\" onclick=\"quickchart('df-5ba83d91-5437-49b0-850d-240427c29ac3')\"\n",
              "            title=\"Suggest charts\"\n",
              "            style=\"display:none;\">\n",
              "\n",
              "<svg xmlns=\"http://www.w3.org/2000/svg\" height=\"24px\"viewBox=\"0 0 24 24\"\n",
              "     width=\"24px\">\n",
              "    <g>\n",
              "        <path d=\"M19 3H5c-1.1 0-2 .9-2 2v14c0 1.1.9 2 2 2h14c1.1 0 2-.9 2-2V5c0-1.1-.9-2-2-2zM9 17H7v-7h2v7zm4 0h-2V7h2v10zm4 0h-2v-4h2v4z\"/>\n",
              "    </g>\n",
              "</svg>\n",
              "  </button>\n",
              "\n",
              "<style>\n",
              "  .colab-df-quickchart {\n",
              "      --bg-color: #E8F0FE;\n",
              "      --fill-color: #1967D2;\n",
              "      --hover-bg-color: #E2EBFA;\n",
              "      --hover-fill-color: #174EA6;\n",
              "      --disabled-fill-color: #AAA;\n",
              "      --disabled-bg-color: #DDD;\n",
              "  }\n",
              "\n",
              "  [theme=dark] .colab-df-quickchart {\n",
              "      --bg-color: #3B4455;\n",
              "      --fill-color: #D2E3FC;\n",
              "      --hover-bg-color: #434B5C;\n",
              "      --hover-fill-color: #FFFFFF;\n",
              "      --disabled-bg-color: #3B4455;\n",
              "      --disabled-fill-color: #666;\n",
              "  }\n",
              "\n",
              "  .colab-df-quickchart {\n",
              "    background-color: var(--bg-color);\n",
              "    border: none;\n",
              "    border-radius: 50%;\n",
              "    cursor: pointer;\n",
              "    display: none;\n",
              "    fill: var(--fill-color);\n",
              "    height: 32px;\n",
              "    padding: 0;\n",
              "    width: 32px;\n",
              "  }\n",
              "\n",
              "  .colab-df-quickchart:hover {\n",
              "    background-color: var(--hover-bg-color);\n",
              "    box-shadow: 0 1px 2px rgba(60, 64, 67, 0.3), 0 1px 3px 1px rgba(60, 64, 67, 0.15);\n",
              "    fill: var(--button-hover-fill-color);\n",
              "  }\n",
              "\n",
              "  .colab-df-quickchart-complete:disabled,\n",
              "  .colab-df-quickchart-complete:disabled:hover {\n",
              "    background-color: var(--disabled-bg-color);\n",
              "    fill: var(--disabled-fill-color);\n",
              "    box-shadow: none;\n",
              "  }\n",
              "\n",
              "  .colab-df-spinner {\n",
              "    border: 2px solid var(--fill-color);\n",
              "    border-color: transparent;\n",
              "    border-bottom-color: var(--fill-color);\n",
              "    animation:\n",
              "      spin 1s steps(1) infinite;\n",
              "  }\n",
              "\n",
              "  @keyframes spin {\n",
              "    0% {\n",
              "      border-color: transparent;\n",
              "      border-bottom-color: var(--fill-color);\n",
              "      border-left-color: var(--fill-color);\n",
              "    }\n",
              "    20% {\n",
              "      border-color: transparent;\n",
              "      border-left-color: var(--fill-color);\n",
              "      border-top-color: var(--fill-color);\n",
              "    }\n",
              "    30% {\n",
              "      border-color: transparent;\n",
              "      border-left-color: var(--fill-color);\n",
              "      border-top-color: var(--fill-color);\n",
              "      border-right-color: var(--fill-color);\n",
              "    }\n",
              "    40% {\n",
              "      border-color: transparent;\n",
              "      border-right-color: var(--fill-color);\n",
              "      border-top-color: var(--fill-color);\n",
              "    }\n",
              "    60% {\n",
              "      border-color: transparent;\n",
              "      border-right-color: var(--fill-color);\n",
              "    }\n",
              "    80% {\n",
              "      border-color: transparent;\n",
              "      border-right-color: var(--fill-color);\n",
              "      border-bottom-color: var(--fill-color);\n",
              "    }\n",
              "    90% {\n",
              "      border-color: transparent;\n",
              "      border-bottom-color: var(--fill-color);\n",
              "    }\n",
              "  }\n",
              "</style>\n",
              "\n",
              "  <script>\n",
              "    async function quickchart(key) {\n",
              "      const quickchartButtonEl =\n",
              "        document.querySelector('#' + key + ' button');\n",
              "      quickchartButtonEl.disabled = true;  // To prevent multiple clicks.\n",
              "      quickchartButtonEl.classList.add('colab-df-spinner');\n",
              "      try {\n",
              "        const charts = await google.colab.kernel.invokeFunction(\n",
              "            'suggestCharts', [key], {});\n",
              "      } catch (error) {\n",
              "        console.error('Error during call to suggestCharts:', error);\n",
              "      }\n",
              "      quickchartButtonEl.classList.remove('colab-df-spinner');\n",
              "      quickchartButtonEl.classList.add('colab-df-quickchart-complete');\n",
              "    }\n",
              "    (() => {\n",
              "      let quickchartButtonEl =\n",
              "        document.querySelector('#df-5ba83d91-5437-49b0-850d-240427c29ac3 button');\n",
              "      quickchartButtonEl.style.display =\n",
              "        google.colab.kernel.accessAllowed ? 'block' : 'none';\n",
              "    })();\n",
              "  </script>\n",
              "</div>\n",
              "\n",
              "    </div>\n",
              "  </div>\n"
            ],
            "text/plain": [
              "            login                     name               company  \\\n",
              "344  alvarogonjim  Alvaro Gonzalez-Jimenez   University of Basel   \n",
              "345        palsch              Paul Schell  PRODYNA (Schweiz) AG   \n",
              "346      dsolsona           Daniel Solsona             Beekeeper   \n",
              "347       frieder           Frieder Heugel                   NaN   \n",
              "348      dpdawson            Daniel Dawson                Google   \n",
              "\n",
              "               location email hireable  \\\n",
              "344               Basel   NaN      NaN   \n",
              "345               Basel   NaN      NaN   \n",
              "346               Basel   NaN      NaN   \n",
              "347  Basel, Switzerland   NaN      NaN   \n",
              "348  Basel, Switzerland   NaN     True   \n",
              "\n",
              "                                                   bio  public_repos  \\\n",
              "344                                                NaN            23   \n",
              "345  I am a senior software architect and consultan...            18   \n",
              "346                                                NaN            35   \n",
              "347                                                NaN            10   \n",
              "348                                                NaN            27   \n",
              "\n",
              "     followers  following            created_at  \n",
              "344         11         11  2017-02-09T17:00:18Z  \n",
              "345         11         14  2012-03-21T17:09:18Z  \n",
              "346         11          3  2011-06-26T16:07:22Z  \n",
              "347         11          0  2011-01-31T10:19:09Z  \n",
              "348         11         88  2010-11-16T21:28:17Z  "
            ]
          },
          "execution_count": 10,
          "metadata": {},
          "output_type": "execute_result"
        }
      ],
      "source": [
        "users_df.tail()"
      ]
    },
    {
      "cell_type": "code",
      "execution_count": null,
      "metadata": {
        "id": "tqtSsH_u90Zp"
      },
      "outputs": [],
      "source": [
        "users_df.to_csv('/content/drive/MyDrive/Colab Notebooks/TDS/Project 1 - Basel10/users.csv',index=False)"
      ]
    }
  ],
  "metadata": {
    "colab": {
      "provenance": []
    },
    "kernelspec": {
      "display_name": "Python 3",
      "name": "python3"
    },
    "language_info": {
      "name": "python"
    }
  },
  "nbformat": 4,
  "nbformat_minor": 0
}
